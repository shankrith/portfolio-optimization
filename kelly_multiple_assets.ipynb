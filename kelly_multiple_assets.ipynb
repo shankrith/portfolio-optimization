{
  "nbformat": 4,
  "nbformat_minor": 0,
  "metadata": {
    "colab": {
      "provenance": []
    },
    "kernelspec": {
      "name": "python3",
      "display_name": "Python 3"
    },
    "language_info": {
      "name": "python"
    }
  },
  "cells": [
    {
      "cell_type": "code",
      "execution_count": 1,
      "metadata": {
        "id": "vs1rhdkfYNQ7"
      },
      "outputs": [],
      "source": [
        "import warnings\n",
        "warnings.filterwarnings('ignore')"
      ]
    },
    {
      "cell_type": "code",
      "source": [
        "%pip install -q amplpy matplotlib pandas"
      ],
      "metadata": {
        "id": "StOA48d32Q3u",
        "colab": {
          "base_uri": "https://localhost:8080/"
        },
        "outputId": "6176c274-7c30-417f-ce93-608dd4dfdfa4"
      },
      "execution_count": 2,
      "outputs": [
        {
          "output_type": "stream",
          "name": "stdout",
          "text": [
            "\u001b[2K     \u001b[90m━━━━━━━━━━━━━━━━━━━━━━━━━━━━━━━━━━━━━━━━\u001b[0m \u001b[32m5.6/5.6 MB\u001b[0m \u001b[31m10.8 MB/s\u001b[0m eta \u001b[36m0:00:00\u001b[0m\n",
            "\u001b[?25h"
          ]
        }
      ]
    },
    {
      "cell_type": "code",
      "source": [
        "import numpy as np\n",
        "import pandas as pd\n",
        "import matplotlib.pyplot as plt"
      ],
      "metadata": {
        "id": "oLwxwdTXVEoi"
      },
      "execution_count": 3,
      "outputs": []
    },
    {
      "cell_type": "code",
      "source": [
        "df = pd.read_csv(\"sp500_2003_2023.csv\")"
      ],
      "metadata": {
        "id": "mixLWmGijxU9"
      },
      "execution_count": 4,
      "outputs": []
    },
    {
      "cell_type": "code",
      "source": [
        "df['date'] = pd.to_datetime(df['date'])\n",
        "df = df.set_index(\"date\")"
      ],
      "metadata": {
        "id": "mvjgy3Zpj1QR"
      },
      "execution_count": 5,
      "outputs": []
    },
    {
      "cell_type": "code",
      "source": [
        "sample = df.sample(20, axis=1)"
      ],
      "metadata": {
        "id": "cdRqM65akTM7"
      },
      "execution_count": 6,
      "outputs": []
    },
    {
      "cell_type": "code",
      "source": [
        "corr = sample.corr().stack()\n",
        "corr[corr.abs() < 0.8].index"
      ],
      "metadata": {
        "colab": {
          "base_uri": "https://localhost:8080/"
        },
        "id": "fz21eA1lrjvq",
        "outputId": "b8d3cd75-5b77-4cda-8690-476a534f2fe4"
      },
      "execution_count": 169,
      "outputs": [
        {
          "output_type": "execute_result",
          "data": {
            "text/plain": [
              "MultiIndex([('DRI.US',  'STT.US'),\n",
              "            ('DRI.US',  'APA.US'),\n",
              "            ('DRI.US',  'PPL.US'),\n",
              "            ('UNH.US',  'STT.US'),\n",
              "            ('UNH.US',  'APA.US'),\n",
              "            ('UNH.US',  'PPL.US'),\n",
              "            ('COR.US',  'STT.US'),\n",
              "            ('COR.US',  'APA.US'),\n",
              "            ('COR.US',  'PPL.US'),\n",
              "            ('COR.US',  'AMD.US'),\n",
              "            ...\n",
              "            ('AMD.US',  'STT.US'),\n",
              "            ('AMD.US',  'APA.US'),\n",
              "            ('AMD.US',  'PPL.US'),\n",
              "            ('AMD.US', 'NTRS.US'),\n",
              "            ('HPQ.US',  'COR.US'),\n",
              "            ('HPQ.US', 'AMGN.US'),\n",
              "            ('HPQ.US',  'STT.US'),\n",
              "            ('HPQ.US',  'APA.US'),\n",
              "            ('HPQ.US',  'PPL.US'),\n",
              "            ('HPQ.US', 'EBAY.US')],\n",
              "           length=108)"
            ]
          },
          "metadata": {},
          "execution_count": 169
        }
      ]
    },
    {
      "cell_type": "code",
      "source": [
        "corr"
      ],
      "metadata": {
        "colab": {
          "base_uri": "https://localhost:8080/"
        },
        "id": "Z4GLuhx6OuHd",
        "outputId": "9f1efed2-6652-4fb0-a117-008079e3ff46"
      },
      "execution_count": 8,
      "outputs": [
        {
          "output_type": "execute_result",
          "data": {
            "text/plain": [
              "NTRS.US  NTRS.US    1.000000\n",
              "         MET.US     0.848834\n",
              "         MMM.US     0.867924\n",
              "         SNPS.US    0.733046\n",
              "         ETN.US     0.792203\n",
              "                      ...   \n",
              "ECL.US   GEN.US     0.865186\n",
              "         PG.US      0.924638\n",
              "         ABT.US     0.940535\n",
              "         XOM.US     0.565909\n",
              "         ECL.US     1.000000\n",
              "Length: 400, dtype: float64"
            ]
          },
          "metadata": {},
          "execution_count": 8
        }
      ]
    },
    {
      "cell_type": "code",
      "source": [
        "corr = sample.corr().stack()\n",
        "corr = corr[corr < 1]\n",
        "corr_subset = corr[corr.abs() > 0.8].index\n",
        "keep, drop = set(), set()\n",
        "for s1, s2 in corr_subset:\n",
        "  if s1 not in keep:\n",
        "    if s2 not in keep:\n",
        "      keep.add(s1)\n",
        "      drop.add(s2)\n",
        "    else:\n",
        "      drop.add(s1)\n",
        "  else:\n",
        "    keep.discard(s2)\n",
        "    drop.add(s2)\n",
        "\n",
        "\n",
        "\n"
      ],
      "metadata": {
        "id": "DWpwAuHAqLA9"
      },
      "execution_count": 13,
      "outputs": []
    },
    {
      "cell_type": "code",
      "source": [
        "corr[corr.abs() > 0.8]"
      ],
      "metadata": {
        "colab": {
          "base_uri": "https://localhost:8080/"
        },
        "id": "hY7XSbDsQEwJ",
        "outputId": "e8d3f39a-a6a2-46e7-f0de-4ae74ab9e03c"
      },
      "execution_count": 18,
      "outputs": [
        {
          "output_type": "execute_result",
          "data": {
            "text/plain": [
              "NTRS.US  MET.US    0.848834\n",
              "         MMM.US    0.867924\n",
              "         NOC.US    0.895202\n",
              "         HAS.US    0.903979\n",
              "         AFL.US    0.854744\n",
              "                     ...   \n",
              "ECL.US   AVY.US    0.868053\n",
              "         PPG.US    0.961991\n",
              "         GEN.US    0.865186\n",
              "         PG.US     0.924638\n",
              "         ABT.US    0.940535\n",
              "Length: 264, dtype: float64"
            ]
          },
          "metadata": {},
          "execution_count": 18
        }
      ]
    },
    {
      "cell_type": "code",
      "source": [
        "drop.intersection(keep)"
      ],
      "metadata": {
        "colab": {
          "base_uri": "https://localhost:8080/"
        },
        "id": "FskQXA5dPkX2",
        "outputId": "936f5746-6f26-4f27-9e56-728a45f22fb4"
      },
      "execution_count": 16,
      "outputs": [
        {
          "output_type": "execute_result",
          "data": {
            "text/plain": [
              "{'ABT.US',\n",
              " 'AFL.US',\n",
              " 'AMD.US',\n",
              " 'AVY.US',\n",
              " 'D.US',\n",
              " 'ETN.US',\n",
              " 'GEN.US',\n",
              " 'HAS.US',\n",
              " 'HSY.US',\n",
              " 'MET.US',\n",
              " 'MMM.US',\n",
              " 'NOC.US',\n",
              " 'PG.US',\n",
              " 'PPG.US',\n",
              " 'RTX.US',\n",
              " 'SNPS.US',\n",
              " 'WY.US'}"
            ]
          },
          "metadata": {},
          "execution_count": 16
        }
      ]
    },
    {
      "cell_type": "code",
      "source": [
        "len(keep)"
      ],
      "metadata": {
        "colab": {
          "base_uri": "https://localhost:8080/"
        },
        "id": "lkUo1iZrsGsI",
        "outputId": "91167eeb-4d71-4c28-bceb-d580b42a1657"
      },
      "execution_count": 11,
      "outputs": [
        {
          "output_type": "execute_result",
          "data": {
            "text/plain": [
              "19"
            ]
          },
          "metadata": {},
          "execution_count": 11
        }
      ]
    },
    {
      "cell_type": "code",
      "source": [
        "returns = sample.pct_change().dropna()"
      ],
      "metadata": {
        "id": "zpanLkKokfCU"
      },
      "execution_count": 159,
      "outputs": []
    },
    {
      "cell_type": "code",
      "source": [
        "returns = {\"A1\": 0.0476,\n",
        "           \"A2\": 0.004}\n",
        "\n",
        "covariances = {(\"A1\", \"A1\"): 2.12,\n",
        "               (\"A1\", \"A2\"): 1.03,\n",
        "               (\"A2\", \"A1\"): 1.03,\n",
        "               (\"A2\", \"A2\"): 1.89}\n"
      ],
      "metadata": {
        "id": "WPiV8uvNOa7x"
      },
      "execution_count": null,
      "outputs": []
    },
    {
      "cell_type": "code",
      "source": [
        "from amplpy import AMPL, ampl_notebook\n",
        "\n",
        "ampl = ampl_notebook(\n",
        "    modules=[\"coin\"],\n",
        "    license_uuid=\"default\"\n",
        ")"
      ],
      "metadata": {
        "colab": {
          "base_uri": "https://localhost:8080/"
        },
        "id": "CeTjzbKuPAce",
        "outputId": "4c819975-4af7-4e1c-9f69-3a9f7b7089a2"
      },
      "execution_count": null,
      "outputs": [
        {
          "output_type": "stream",
          "name": "stdout",
          "text": [
            "Using default Community Edition License for Colab. Get yours at: https://ampl.com/ce\n",
            "Licensed to AMPL Community Edition License for the AMPL Model Colaboratory (https://colab.ampl.com).\n"
          ]
        }
      ]
    },
    {
      "cell_type": "code",
      "source": [
        "%%ampl_eval\n",
        "#define sets\n",
        "reset;\n",
        "\n",
        "set ASSETS;\n",
        "\n",
        "param returns {ASSETS};\n",
        "param covars {ASSETS, ASSETS} >= 0;\n",
        "param rfr >= 0, <= 1;\n",
        "\n",
        "var f{a in ASSETS} >= 0, <= 1;\n",
        "\n",
        "maximize Profit:\n",
        "  rfr + sum {a in ASSETS} f[a] * (returns[a] - rfr) -\n",
        "  0.5 * sum {a in ASSETS} sum {s in ASSETS} covars[a,s] * f[a] * f[s];\n",
        "\n",
        "subject to WeightConstraint:\n",
        "  sum {a in ASSETS} f[a] == 1;"
      ],
      "metadata": {
        "id": "imekYCmbPZBc"
      },
      "execution_count": null,
      "outputs": []
    },
    {
      "cell_type": "code",
      "source": [
        "ASSETS = returns.keys()\n",
        "rfr = 0\n",
        "\n",
        "ampl.set['ASSETS'] = ASSETS\n",
        "ampl.param['returns'] = returns\n",
        "ampl.param['covars'] = covariances\n",
        "ampl.param['rfr'] = rfr\n",
        "\n",
        "ampl.option[\"solver\"] = \"ipopt\"\n",
        "ampl.solve()"
      ],
      "metadata": {
        "colab": {
          "base_uri": "https://localhost:8080/"
        },
        "id": "6ZQac5FYR6RD",
        "outputId": "ba38eac3-8a71-4c09-9e8d-f2dd8141ec71"
      },
      "execution_count": null,
      "outputs": [
        {
          "output_type": "stream",
          "name": "stdout",
          "text": [
            "Ipopt 3.12.13: \n",
            "\n",
            "******************************************************************************\n",
            "This program contains Ipopt, a library for large-scale nonlinear optimization.\n",
            " Ipopt is released as open source code under the Eclipse Public License (EPL).\n",
            "         For more information visit http://projects.coin-or.org/Ipopt\n",
            "******************************************************************************\n",
            "\n",
            "This is Ipopt version 3.12.13, running with linear solver mumps.\n",
            "NOTE: Other linear solvers might be more efficient (see Ipopt documentation).\n",
            "\n",
            "Number of nonzeros in equality constraint Jacobian...:        2\n",
            "Number of nonzeros in inequality constraint Jacobian.:        0\n",
            "Number of nonzeros in Lagrangian Hessian.............:        3\n",
            "\n",
            "Total number of variables............................:        2\n",
            "                     variables with only lower bounds:        0\n",
            "                variables with lower and upper bounds:        2\n",
            "                     variables with only upper bounds:        0\n",
            "Total number of equality constraints.................:        1\n",
            "Total number of inequality constraints...............:        0\n",
            "        inequality constraints with only lower bounds:        0\n",
            "   inequality constraints with lower and upper bounds:        0\n",
            "        inequality constraints with only upper bounds:        0\n",
            "\n",
            "iter    objective    inf_pr   inf_du lg(mu)  ||d||  lg(rg) alpha_du alpha_pr  ls\n",
            "   0 -2.1250009e-04 9.80e-01 2.07e-02  -1.0 0.00e+00    -  0.00e+00 0.00e+00   0\n",
            "   1  7.3292513e-01 0.00e+00 4.66e+01  -1.7 4.90e-01    -  2.06e-02 1.00e+00h  1\n",
            "   2  7.3222353e-01 0.00e+00 5.93e-15  -1.7 1.19e-02    -  1.00e+00 1.00e+00f  1\n",
            "   3  7.3165462e-01 0.00e+00 6.95e-04  -3.8 2.09e-02    -  9.67e-01 1.00e+00f  1\n",
            "   4  7.3164284e-01 0.00e+00 1.74e-16  -3.8 3.41e-03    -  1.00e+00 1.00e+00f  1\n",
            "   5  7.3164283e-01 1.11e-16 1.66e-16  -5.7 7.20e-05    -  1.00e+00 1.00e+00f  1\n",
            "   6  7.3164283e-01 0.00e+00 9.04e-17  -8.6 6.50e-07    -  1.00e+00 1.00e+00h  1\n",
            "\n",
            "Number of Iterations....: 6\n",
            "\n",
            "                                   (scaled)                 (unscaled)\n",
            "Objective...............:   7.3164283076923087e-01    7.3164283076923087e-01\n",
            "Dual infeasibility......:   9.0383074153243745e-17    9.0383074153243745e-17\n",
            "Constraint violation....:   0.0000000000000000e+00    0.0000000000000000e+00\n",
            "Complementarity.........:   2.5085248233492178e-09    2.5085248233492178e-09\n",
            "Overall NLP error.......:   2.5085248233492178e-09    2.5085248233492178e-09\n",
            "\n",
            "\n",
            "Number of objective function evaluations             = 7\n",
            "Number of objective gradient evaluations             = 7\n",
            "Number of equality constraint evaluations            = 7\n",
            "Number of inequality constraint evaluations          = 0\n",
            "Number of equality constraint Jacobian evaluations   = 7\n",
            "Number of inequality constraint Jacobian evaluations = 0\n",
            "Number of Lagrangian Hessian evaluations             = 6\n",
            "Total CPU secs in IPOPT (w/o function evaluations)   =      0.007\n",
            "Total CPU secs in NLP function evaluations           =      0.000\n",
            "\n",
            "EXIT: Optimal Solution Found.\n",
            "\b\b\b\b\b\b\b\b\b\b\b\b\b\b\b \n",
            "Ipopt 3.12.13: Optimal Solution Found\n",
            "\n",
            "suffix ipopt_zU_out OUT;\n",
            "suffix ipopt_zL_out OUT;\n"
          ]
        }
      ]
    },
    {
      "cell_type": "code",
      "source": [
        "print(f\"Profit = {ampl.obj['Profit'].value()}\")\n",
        "\n",
        "print(\"\\n Allocation Report\")\n",
        "for asset, f in ampl.var[\"f\"].to_dict().items():\n",
        "  print(f\" {asset} = {f}\")"
      ],
      "metadata": {
        "colab": {
          "base_uri": "https://localhost:8080/"
        },
        "id": "Ivomo11kTcG1",
        "outputId": "c8ed2309-86f6-4894-bbbb-b420a34621c1"
      },
      "execution_count": null,
      "outputs": [
        {
          "output_type": "stream",
          "name": "stdout",
          "text": [
            "Profit = -0.7316428307692309\n",
            "\n",
            " Allocation Report\n",
            " A1 = 0.46338461615155424\n",
            " A2 = 0.5366153838484458\n"
          ]
        }
      ]
    },
    {
      "cell_type": "code",
      "source": [
        "def optFraction(f, returns, varcov):\n",
        "  return np.asarray(f.dot(returns) - f.dot(varcov).dot(f) / 2)"
      ],
      "metadata": {
        "id": "MEsfnsU-UqF7"
      },
      "execution_count": null,
      "outputs": []
    },
    {
      "cell_type": "code",
      "source": [
        "risk_frac1 = np.linspace(0, 1, 1000)\n",
        "risk_frac2 = 1 - risk_frac1\n",
        "F = np.hstack([risk_frac1.reshape(-1, 1),\n",
        "               risk_frac2.reshape(-1, 1)])\n",
        "\n",
        "returns = np.array([0.0476, 0.004]) # mu\n",
        "varcov = np.matrix([[2.12, 1.03], # sigma_ij\n",
        "                    [1.03, 1.89]])\n",
        "rfr = 0\n",
        "\n",
        "g = []\n",
        "for idx, f in enumerate(F):\n",
        "  g.append(optFraction(f, returns, varcov))\n",
        "\n",
        "g = np.vstack(g)\n",
        "max_pt = np.argmax(g)\n",
        "print(f\"Max fractions = {F[max_pt].round(3)}\\ng = {g.max():.3f}\")"
      ],
      "metadata": {
        "colab": {
          "base_uri": "https://localhost:8080/"
        },
        "id": "aJM3TeX3U2iU",
        "outputId": "bed6dbdc-b70d-4648-bbf3-d270ea0785ac"
      },
      "execution_count": null,
      "outputs": [
        {
          "output_type": "stream",
          "name": "stdout",
          "text": [
            "Max fractions = [0.463 0.537]\n",
            "g = -0.732\n"
          ]
        }
      ]
    },
    {
      "cell_type": "code",
      "source": [
        "g.max()"
      ],
      "metadata": {
        "colab": {
          "base_uri": "https://localhost:8080/"
        },
        "id": "EYDt3ZeAVIDx",
        "outputId": "5fcf6fe4-ebf2-419c-d80e-75935a74cdfe"
      },
      "execution_count": null,
      "outputs": [
        {
          "output_type": "execute_result",
          "data": {
            "text/plain": [
              "-0.7316428368308248"
            ]
          },
          "metadata": {},
          "execution_count": 101
        }
      ]
    }
  ]
}