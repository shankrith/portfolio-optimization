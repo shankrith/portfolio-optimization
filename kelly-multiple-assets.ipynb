{
 "cells": [
  {
   "cell_type": "code",
   "execution_count": 5,
   "metadata": {},
   "outputs": [],
   "source": [
    "import warnings\n",
    "warnings.filterwarnings('ignore')"
   ]
  },
  {
   "cell_type": "code",
   "execution_count": 83,
   "metadata": {},
   "outputs": [],
   "source": [
    "import numpy as np\n",
    "import pandas as pd\n",
    "import matplotlib.pyplot as plt\n",
    "from amplpy import AMPL, ampl_notebook"
   ]
  },
  {
   "cell_type": "code",
   "execution_count": 84,
   "metadata": {},
   "outputs": [
    {
     "ename": "Exception",
     "evalue": "Failed to install modules.",
     "output_type": "error",
     "traceback": [
      "\u001b[1;31m---------------------------------------------------------------------------\u001b[0m",
      "\u001b[1;31mException\u001b[0m                                 Traceback (most recent call last)",
      "Cell \u001b[1;32mIn[84], line 1\u001b[0m\n\u001b[1;32m----> 1\u001b[0m ampl \u001b[38;5;241m=\u001b[39m \u001b[43mampl_notebook\u001b[49m\u001b[43m(\u001b[49m\n\u001b[0;32m      2\u001b[0m \u001b[43m    \u001b[49m\u001b[43mmodules\u001b[49m\u001b[38;5;241;43m=\u001b[39;49m\u001b[43m[\u001b[49m\u001b[38;5;124;43m'\u001b[39;49m\u001b[38;5;124;43mcoin\u001b[39;49m\u001b[38;5;124;43m'\u001b[39;49m\u001b[43m]\u001b[49m\u001b[43m,\u001b[49m\n\u001b[0;32m      3\u001b[0m \u001b[43m    \u001b[49m\u001b[43mlicense_uuid\u001b[49m\u001b[38;5;241;43m=\u001b[39;49m\u001b[38;5;124;43m'\u001b[39;49m\u001b[38;5;124;43mdefault\u001b[39;49m\u001b[38;5;124;43m'\u001b[39;49m\n\u001b[0;32m      4\u001b[0m \u001b[43m)\u001b[49m\n",
      "File \u001b[1;32mc:\\Personal\\1. Learning\\portfolio-optimization\\venv\\lib\\site-packages\\ampltools\\notebooks.py:115\u001b[0m, in \u001b[0;36mampl_notebook\u001b[1;34m(modules, license_uuid, reinstall, verbose, show_license, **kwargs)\u001b[0m\n\u001b[0;32m    112\u001b[0m     globals_[\u001b[38;5;124m\"\u001b[39m\u001b[38;5;124mampl\u001b[39m\u001b[38;5;124m\"\u001b[39m] \u001b[38;5;241m=\u001b[39m ampl\n\u001b[0;32m    114\u001b[0m \u001b[38;5;28;01mif\u001b[39;00m modules \u001b[38;5;129;01mnot\u001b[39;00m \u001b[38;5;129;01min\u001b[39;00m (\u001b[38;5;28;01mNone\u001b[39;00m, []):\n\u001b[1;32m--> 115\u001b[0m     \u001b[43minstall_modules\u001b[49m\u001b[43m(\u001b[49m\u001b[43mmodules\u001b[49m\u001b[43m,\u001b[49m\u001b[43m \u001b[49m\u001b[43mreinstall\u001b[49m\u001b[38;5;241;43m=\u001b[39;49m\u001b[43mreinstall\u001b[49m\u001b[43m,\u001b[49m\u001b[43m \u001b[49m\u001b[43mverbose\u001b[49m\u001b[38;5;241;43m=\u001b[39;49m\u001b[43mverbose\u001b[49m\u001b[43m)\u001b[49m\n\u001b[0;32m    116\u001b[0m \u001b[38;5;28;01melse\u001b[39;00m:\n\u001b[0;32m    117\u001b[0m     modules \u001b[38;5;241m=\u001b[39m []\n",
      "File \u001b[1;32mc:\\Personal\\1. Learning\\portfolio-optimization\\venv\\lib\\site-packages\\ampltools\\modules\\amplpypi.py:157\u001b[0m, in \u001b[0;36minstall_modules\u001b[1;34m(modules, reinstall, options, verbose)\u001b[0m\n\u001b[0;32m    155\u001b[0m     pip_cmd \u001b[38;5;241m+\u001b[39m\u001b[38;5;241m=\u001b[39m [\u001b[38;5;124m\"\u001b[39m\u001b[38;5;124m--force-reinstall\u001b[39m\u001b[38;5;124m\"\u001b[39m, \u001b[38;5;124m\"\u001b[39m\u001b[38;5;124m--upgrade\u001b[39m\u001b[38;5;124m\"\u001b[39m, \u001b[38;5;124m\"\u001b[39m\u001b[38;5;124m--no-cache\u001b[39m\u001b[38;5;124m\"\u001b[39m]\n\u001b[0;32m    156\u001b[0m \u001b[38;5;28;01mif\u001b[39;00m run_command(pip_cmd \u001b[38;5;241m+\u001b[39m modules \u001b[38;5;241m+\u001b[39m options, verbose\u001b[38;5;241m=\u001b[39mverbose) \u001b[38;5;241m!=\u001b[39m \u001b[38;5;241m0\u001b[39m:\n\u001b[1;32m--> 157\u001b[0m     \u001b[38;5;28;01mraise\u001b[39;00m \u001b[38;5;167;01mException\u001b[39;00m(\u001b[38;5;124m\"\u001b[39m\u001b[38;5;124mFailed to install modules.\u001b[39m\u001b[38;5;124m\"\u001b[39m)\n\u001b[0;32m    158\u001b[0m load_modules(modules, verbose\u001b[38;5;241m=\u001b[39mverbose)\n",
      "\u001b[1;31mException\u001b[0m: Failed to install modules."
     ]
    }
   ],
   "source": [
    "ampl = ampl_notebook(\n",
    "    modules=['coin'],\n",
    "    license_uuid='default'\n",
    ")"
   ]
  },
  {
   "cell_type": "code",
   "execution_count": 37,
   "metadata": {},
   "outputs": [],
   "source": [
    "TEMP_PATH = r\"C:\\\\Personal\\\\1. Learning\\\\portfolio-optimization\\\\jansen\"\n",
    "idx = pd.IndexSlice\n",
    "df = pd.read_csv(TEMP_PATH + r\"/sp500_2003_2023.csv\")\n",
    "df['date'] = pd.to_datetime(df['date'])\n",
    "df  = df.set_index('date')"
   ]
  },
  {
   "cell_type": "code",
   "execution_count": 38,
   "metadata": {},
   "outputs": [],
   "source": [
    "price = ['Close']\n",
    "cols = df.columns\n",
    "df.columns = pd.MultiIndex.from_product([cols, price], names=['Ticker','Close'])"
   ]
  },
  {
   "cell_type": "code",
   "execution_count": 39,
   "metadata": {},
   "outputs": [],
   "source": [
    "sample = df.loc[\"2013\":,:].sample(20, axis=1)"
   ]
  },
  {
   "cell_type": "code",
   "execution_count": 77,
   "metadata": {},
   "outputs": [],
   "source": [
    "lookback = 252\n",
    "returns = sample.loc[:,idx[:,'Close']] / sample.loc[:,idx[:,'Close']].shift(1) \n",
    "returns = returns.rename(columns={'Close':'returns'})\n",
    "means = returns.rolling(lookback).mean().rename(columns={'returns':'means'})\n",
    "var = returns.rolling(lookback).var().rename(columns={'returns':'var'})\n",
    "data = pd.concat([returns, means, var], axis=1)\n",
    "\n",
    "n = returns.shape[1]\n",
    "cov = returns.rolling(lookback).cov().droplevel(2, axis=0).droplevel(1, axis=1)\n",
    "\n",
    "f = np.zeros(returns.shape)\n",
    "f[:] = np.nan\n",
    "g = np.zeros([returns.shape[0]])\n",
    "g[:] = np.nan"
   ]
  },
  {
   "cell_type": "code",
   "execution_count": 72,
   "metadata": {},
   "outputs": [],
   "source": [
    "for i, (a, row) in enumerate(data.iterrows()):\n",
    "    if i < lookback:\n",
    "        continue\n",
    "    returns_sub = row.loc[idx[:,'returns']]\n",
    "    means_sub = row.loc[idx[:,'means']]\n",
    "    var_sub = row.loc[idx[:,'var']]\n",
    "\n",
    "    cov_sub = cov.loc[idx[means_sub.name,:],:]\n",
    "    np.fill_diagonal(cov_sub.values, var_sub)\n",
    "\n",
    "    means_dict = means_sub.to_dict()\n",
    "    cov_dict = cov_sub.droplevel(0, axis=0).to_dict()\n",
    "    cov_dict = {(k1, k2): v for k1 in cov_dict for k2, v in cov_dict[k1].items()}\n",
    "\n",
    "    ampl.set['ASSETS'] = means_dict.keys()\n",
    "    ampl.param['returns'] = means_dict\n",
    "    ampl.param['covars'] = cov_dict\n",
    "    ampl.param['rfr'] = rfr\n",
    "\n",
    "    ampl.option['solver'] = \"ipopt\"\n",
    "    ampl.solve()\n",
    "\n",
    "    g[i] = ampl.obj['growth'].value\n",
    "    f[i] = ampl.var['f'].to_dict().values()\n",
    "    \n"
   ]
  }
 ],
 "metadata": {
  "kernelspec": {
   "display_name": "venv",
   "language": "python",
   "name": "python3"
  },
  "language_info": {
   "codemirror_mode": {
    "name": "ipython",
    "version": 3
   },
   "file_extension": ".py",
   "mimetype": "text/x-python",
   "name": "python",
   "nbconvert_exporter": "python",
   "pygments_lexer": "ipython3",
   "version": "3.10.9"
  }
 },
 "nbformat": 4,
 "nbformat_minor": 2
}
